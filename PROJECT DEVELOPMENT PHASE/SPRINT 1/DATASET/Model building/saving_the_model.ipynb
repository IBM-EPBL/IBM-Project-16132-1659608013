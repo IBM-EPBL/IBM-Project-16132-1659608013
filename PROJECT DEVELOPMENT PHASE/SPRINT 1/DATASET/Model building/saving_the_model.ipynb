{
  "nbformat": 4,
  "nbformat_minor": 0,
  "metadata": {
    "colab": {
      "provenance": []
    },
    "kernelspec": {
      "name": "python3",
      "display_name": "Python 3"
    },
    "language_info": {
      "name": "python"
    }
  },
  "cells": [
    {
      "cell_type": "code",
      "source": [
        "import pickle\n",
        "\n",
        "with open( 'Parkinson_MLmodel.sav', 'wb') as f:\n",
        "    pickle.dump(Model_XG,f)\n",
        "    \n",
        "with open('standardScalar.sav', 'wb') as f:\n",
        "    pickle.dump(Scaler_data,f)"
      ],
      "metadata": {
        "id": "JQa0HXXCUVLt"
      },
      "execution_count": null,
      "outputs": []
    }
  ]
}