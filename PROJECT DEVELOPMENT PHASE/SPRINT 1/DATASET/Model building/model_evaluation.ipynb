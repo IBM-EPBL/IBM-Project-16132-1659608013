{
  "nbformat": 4,
  "nbformat_minor": 0,
  "metadata": {
    "colab": {
      "provenance": []
    },
    "kernelspec": {
      "name": "python3",
      "display_name": "Python 3"
    },
    "language_info": {
      "name": "python"
    }
  },
  "cells": [
    {
      "cell_type": "code",
      "source": [
        "# accuracy score on training data\n",
        "X_train_prediction = model.predict(X_train)\n",
        "training_data_accuracy = accuracy_score(Y_train, X_train_prediction)\n",
        "\n",
        "\n",
        "print('Accuracy score of training data : ', training_data_accuracy)\n",
        "Accuracy score of training data :  0.8846153846153846\n",
        "\n",
        "\n",
        "# accuracy score on training data\n",
        "X_test_prediction = model.predict(X_test)\n",
        "test_data_accuracy = accuracy_score(Y_test, X_test_prediction)\n",
        "\n",
        "\n",
        "print('Accuracy score of test data : ', test_data_accuracy)\n",
        "Accuracy score of test data :  0.8717948717948718"
      ],
      "metadata": {
        "id": "Q_SJLLUsFVXr"
      },
      "execution_count": null,
      "outputs": []
    }
  ]
}